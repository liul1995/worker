{
 "cells": [
  {
   "cell_type": "code",
   "execution_count": 1,
   "metadata": {},
   "outputs": [],
   "source": [
    "import torch\n",
    "import torch.nn as nn\n",
    "import numpy as np\n",
    "from torch.utils.data import Dataset,DataLoader,TensorDataset"
   ]
  },
  {
   "cell_type": "code",
   "execution_count": 2,
   "metadata": {},
   "outputs": [],
   "source": [
    "class ScaledDotProductAttention(nn.Module):\n",
    "    \"\"\" Scaled Dot-Product Attention \"\"\"\n",
    "\n",
    "    def __init__(self, scale):\n",
    "        super().__init__()\n",
    "\n",
    "        self.scale = scale\n",
    "        self.softmax = nn.Softmax(dim=2)\n",
    "\n",
    "    def forward(self, q, k, v, mask=None):\n",
    "        u = torch.bmm(q, k.transpose(1, 2)) # 1.Matmul\n",
    "        u = u / self.scale # 2.Scale\n",
    "\n",
    "        if mask is not None:\n",
    "            u = u.masked_fill(mask, -np.inf) # 3.Mask\n",
    "\n",
    "        attn = self.softmax(u) # 4.Softmax\n",
    "        output = torch.bmm(attn, v) # 5.Output\n",
    "\n",
    "        return attn, output"
   ]
  },
  {
   "cell_type": "code",
   "execution_count": 24,
   "metadata": {},
   "outputs": [
    {
     "name": "stdout",
     "output_type": "stream",
     "text": [
      "ScaledDotProductAttention(\n",
      "  (softmax): Softmax(dim=2)\n",
      ")\n",
      "torch.Size([1, 2, 4])\n"
     ]
    }
   ],
   "source": [
    "if __name__ == \"__main__\":\n",
    "    n_q, n_k, n_v = 2, 4, 4\n",
    "    d_q, d_k, d_v = 128, 128, 64\n",
    "    batch = 1\n",
    "\n",
    "    q = torch.randn(batch, n_q, d_q)\n",
    "    k = torch.randn(batch, n_k, d_k)\n",
    "    v = torch.randn(batch, n_v, d_v)\n",
    "    mask = torch.zeros(batch, n_q, n_k).bool()\n",
    "\n",
    "    attention = ScaledDotProductAttention(scale=np.power(d_k, 0.5))\n",
    "    print(attention)\n",
    "    attn, output = attention(q, k, v, mask=mask)\n",
    "\n",
    "    print(attn.shape)\n",
    "#     print(output)"
   ]
  },
  {
   "cell_type": "code",
   "execution_count": 3,
   "metadata": {},
   "outputs": [],
   "source": [
    "class MultiHeadAttention(nn.Module):\n",
    "    \"\"\" Multi-Head Attention \"\"\"\n",
    "\n",
    "    def __init__(self, n_head, d_k_, d_v_, d_k, d_v, d_o):\n",
    "        super().__init__()\n",
    "\n",
    "        self.n_head = n_head\n",
    "        self.d_k = d_k\n",
    "        self.d_v = d_v\n",
    "\n",
    "        self.fc_q = nn.Linear(d_k_, n_head * d_k)\n",
    "        self.fc_k = nn.Linear(d_k_, n_head * d_k)\n",
    "        self.fc_v = nn.Linear(d_v_, n_head * d_v)\n",
    "\n",
    "        self.attention = ScaledDotProductAttention(scale=np.power(d_k, 0.5))\n",
    "\n",
    "        self.fc_o = nn.Linear(n_head * d_v, d_o)\n",
    "\n",
    "    def forward(self, q, k, v, mask=None):\n",
    "\n",
    "        n_head, d_q, d_k, d_v = self.n_head, self.d_k, self.d_k, self.d_v\n",
    "\n",
    "        batch, n_q, d_q_ = q.size()\n",
    "        batch, n_k, d_k_ = k.size()\n",
    "        batch, n_v, d_v_ = v.size()\n",
    "\n",
    "        q = self.fc_q(q) # 1.单头变多头\n",
    "        k = self.fc_k(k)\n",
    "        v = self.fc_v(v)\n",
    "        q = q.view(batch, n_q, n_head, d_q).permute(2, 0, 1, 3).contiguous().view(-1, n_q, d_q)\n",
    "        k = k.view(batch, n_k, n_head, d_k).permute(2, 0, 1, 3).contiguous().view(-1, n_k, d_k)\n",
    "        v = v.view(batch, n_v, n_head, d_v).permute(2, 0, 1, 3).contiguous().view(-1, n_v, d_v)\n",
    "\n",
    "        if mask is not None:\n",
    "            mask = mask.repeat(n_head, 1, 1)\n",
    "        attn, output = self.attention(q, k, v, mask=mask) # 2.当成单头注意力求输出\n",
    "\n",
    "        output = output.view(n_head, batch, n_q, d_v).permute(1, 2, 0, 3).contiguous().view(batch, n_q, -1) # 3.Concat\n",
    "        output = self.fc_o(output) # 4.仿射变换得到最终输出\n",
    "\n",
    "        return attn, output"
   ]
  },
  {
   "cell_type": "code",
   "execution_count": 10,
   "metadata": {},
   "outputs": [
    {
     "name": "stdout",
     "output_type": "stream",
     "text": [
      "torch.Size([8, 2, 4])\n",
      "torch.Size([1, 2, 128])\n"
     ]
    }
   ],
   "source": [
    "if __name__ == \"__main__\":\n",
    "    n_q, n_k, n_v = 2, 4, 4\n",
    "    d_q_, d_k_, d_v_ = 128, 128, 64\n",
    "\n",
    "    q = torch.randn(batch, n_q, d_q_)\n",
    "    k = torch.randn(batch, n_k, d_k_)\n",
    "    v = torch.randn(batch, n_v, d_v_)    \n",
    "    mask = torch.zeros(batch, n_q, n_k).bool()\n",
    "\n",
    "    mha = MultiHeadAttention(n_head=8, d_k_=128, d_v_=64, d_k=256, d_v=128, d_o=128)\n",
    "    attn, output = mha(q, k, v, mask=mask)\n",
    "\n",
    "    print(attn.size())\n",
    "    print(output.size())"
   ]
  },
  {
   "cell_type": "code",
   "execution_count": 4,
   "metadata": {},
   "outputs": [],
   "source": [
    "class SelfAttention(nn.Module):\n",
    "    \"\"\" Self-Attention \"\"\"\n",
    "\n",
    "    def __init__(self, n_head, d_k, d_v, d_x, d_o,l):\n",
    "        super(SelfAttention,self).__init__()\n",
    "        self.wq = nn.Parameter(torch.Tensor(d_x, d_k))\n",
    "        self.wk = nn.Parameter(torch.Tensor(d_x, d_k))\n",
    "        self.wv = nn.Parameter(torch.Tensor(d_x, d_v))\n",
    "\n",
    "        self.mha = MultiHeadAttention(n_head=n_head, d_k_=d_k, d_v_=d_v, d_k=d_k, d_v=d_v, d_o=d_o)\n",
    "        self.rnn = nn.LSTM(d_o,l)\n",
    "        self.out = nn.Linear(l,1)\n",
    "\n",
    "        self.init_parameters()\n",
    "\n",
    "    def init_parameters(self):\n",
    "        for param in self.parameters():\n",
    "            stdv = 1. / np.power(param.size(-1), 0.5)\n",
    "            param.data.uniform_(-stdv, stdv)\n",
    "\n",
    "    def forward(self, x, mask=None):\n",
    "        q = torch.matmul(x, self.wq)   \n",
    "        k = torch.matmul(x, self.wk)\n",
    "        v = torch.matmul(x, self.wv)\n",
    "\n",
    "        attn, output = self.mha(q, k, v, mask=mask)\n",
    "        output,(hn,cn) = self.rnn(output)\n",
    "        output = self.out(output[:,:,-1])\n",
    "        \n",
    "        \n",
    "\n",
    "        return attn, output\n"
   ]
  },
  {
   "cell_type": "code",
   "execution_count": 34,
   "metadata": {
    "jupyter": {
     "source_hidden": true
    }
   },
   "outputs": [
    {
     "data": {
      "text/plain": [
       "torch.Size([5, 3, 20])"
      ]
     },
     "execution_count": 34,
     "metadata": {},
     "output_type": "execute_result"
    }
   ],
   "source": [
    "rnn = nn.LSTM(10, 20, 2)\n",
    "input = torch.randn(5, 3, 10)\n",
    "h0 = torch.randn(2, 3, 20)\n",
    "c0 = torch.randn(2, 3, 20)\n",
    "output, (hn, cn) = rnn(input, (h0, c0))\n",
    "hn_ = hn.view(-1,20,2)\n",
    "output.shape\n",
    "# output[:,:,-1].shape"
   ]
  },
  {
   "cell_type": "code",
   "execution_count": 5,
   "metadata": {},
   "outputs": [],
   "source": [
    "import h5py\n",
    "temp=h5py.File(r\"D:/downloads/20150105.hdf5\",\"r\")\n",
    "data = temp[\"vol\"][:,:,:,0] + temp['vol'][:,:,:,1]"
   ]
  },
  {
   "cell_type": "code",
   "execution_count": 11,
   "metadata": {},
   "outputs": [
    {
     "data": {
      "text/plain": [
       "(2309, 31, 601)"
      ]
     },
     "execution_count": 11,
     "metadata": {},
     "output_type": "execute_result"
    }
   ],
   "source": [
    "data.shape"
   ]
  },
  {
   "cell_type": "code",
   "execution_count": 32,
   "metadata": {},
   "outputs": [
    {
     "data": {
      "text/plain": [
       "h5py._hl.dataset.Dataset"
      ]
     },
     "execution_count": 32,
     "metadata": {},
     "output_type": "execute_result"
    }
   ],
   "source": [
    "y = temp['labels']\n",
    "type(y)"
   ]
  },
  {
   "cell_type": "code",
   "execution_count": 7,
   "metadata": {},
   "outputs": [],
   "source": [
    "x_train = data[:2000]\n",
    "x_test = data[2000:]\n",
    "y_train = y[:2000]\n",
    "y_test = y[2000:]\n",
    "x_train = torch.from_numpy(x_train).float()\n",
    "x_test = torch.from_numpy(x_test).float()\n",
    "y_train = torch.from_numpy(y_train).float()\n",
    "y_test = torch.from_numpy(y_test).float()\n",
    "train_dataset = TensorDataset(x_train,y_train)\n",
    "test_dataset = TensorDataset(x_test,y_test)\n",
    "\n",
    "train_loader = DataLoader(dataset=train_dataset,batch_size=16,shuffle=True,drop_last=True)\n",
    "test_loader = DataLoader(dataset=test_dataset,batch_size=16,shuffle=True,drop_last=True)"
   ]
  },
  {
   "cell_type": "code",
   "execution_count": 29,
   "metadata": {},
   "outputs": [
    {
     "name": "stdout",
     "output_type": "stream",
     "text": [
      "torch.Size([2309, 31, 31])\n",
      "torch.Size([2309, 1])\n"
     ]
    }
   ],
   "source": [
    "if __name__ == \"__main__\":\n",
    "    n_x = 31\n",
    "    d_x = 601\n",
    "    batch = 2309\n",
    "\n",
    "    x = torch.randn(batch, n_x, d_x)\n",
    "#     x = torch.from_numpy(data).float()\n",
    "#     mask = torch.zeros(batch, n_x, n_x).bool()\n",
    "    mask = None\n",
    "\n",
    "    selfattn = SelfAttention(n_head=1, d_k=128, d_v=601, d_x=601, d_o=80,l=31)\n",
    "    attn, output = selfattn(x, mask=mask)\n",
    "\n",
    "    print(attn.size())\n",
    "    print(output.size())"
   ]
  },
  {
   "cell_type": "code",
   "execution_count": 22,
   "metadata": {},
   "outputs": [
    {
     "name": "stdout",
     "output_type": "stream",
     "text": [
      "0.577320996761322 0.6131795534962102\n",
      "0.43530078542232514 0.47101974644159017\n",
      "0.3532609359025955 0.349568992068893\n",
      "0.2842854198813438 0.26414469276603897\n",
      "0.21432039165496827 0.18069208844711906\n",
      "0.17069423252344132 0.19330543397288574\n",
      "0.13762293165922165 0.17151709606772975\n",
      "0.11499442717432976 0.10718378895207455\n",
      "0.09968396879732609 0.14073630932130313\n",
      "0.0896404535472393 0.12350674365696154\n",
      "0.08323125897347927 0.12043668290502146\n",
      "0.0790260289311409 0.09492863459806693\n",
      "0.07663456022739411 0.09511879047280863\n",
      "0.07543644925951958 0.1360648478332319\n",
      "0.07428130033612251 0.11683905085450724\n",
      "0.07362787175178528 0.09323332929297497\n",
      "0.07377113457024097 0.1121812223603851\n",
      "0.0738011933863163 0.10978324593682039\n",
      "0.0735549517273903 0.08475092327908466\n",
      "0.07360251867771149 0.10910187249905184\n",
      "0.07362504950165749 0.09431852694404752\n",
      "0.07338588567078114 0.10990006770742566\n",
      "0.0735882171690464 0.11494392450702817\n",
      "0.07419277983903885 0.10162455706219924\n",
      "0.07353162306547165 0.11215839809493015\n",
      "0.07382055933773518 0.1114594587369969\n",
      "0.07339867222309113 0.09048688078397199\n",
      "0.07356877121329307 0.08942134011732905\n",
      "0.07331627376377582 0.09799805773716223\n",
      "0.0732927582859993 0.10440690580167268\n",
      "0.07334140734374524 0.10522699473719847\n",
      "0.07356608729064465 0.09619798432839544\n",
      "0.07370366847515106 0.09199769794940948\n",
      "0.07351976811885834 0.11628757005459384\n",
      "0.07354770073294639 0.0918479242215031\n",
      "0.0735661503970623 0.09644582632340883\n",
      "0.07342502343654632 0.10229237593318287\n",
      "0.07375198832154274 0.0840666419581363\n",
      "0.07359646183252334 0.09868581534216278\n",
      "0.0731953042447567 0.09141116393239875\n",
      "0.07381208199262619 0.11456512855856042\n",
      "0.07357411248981953 0.11175198539307243\n",
      "0.07354892539978028 0.10852563538049396\n",
      "0.0736103696525097 0.11660206651217059\n",
      "0.07370190040767192 0.09560447421513106\n",
      "0.07370964288711548 0.09362193138191574\n",
      "0.07369594451785087 0.10253272774188142\n",
      "0.0737975789308548 0.09629285257113607\n",
      "0.07357859927415848 0.10878878263266463\n",
      "0.0734396114051342 0.10047667512768194\n",
      "0.07378837168216705 0.1072298384418613\n",
      "0.07334337723255158 0.10118777579382847\n",
      "0.07367225593328476 0.09880026351464422\n",
      "0.0738041715323925 0.10178941370625245\n",
      "0.07414348618686199 0.09929664746711128\n",
      "0.07333371573686599 0.09059383367237292\n",
      "0.07358878487348557 0.11285888599722009\n",
      "0.07373692363500595 0.09349674378570758\n",
      "0.07412296901643277 0.10369712330008808\n",
      "0.07389558486640453 0.10226530620926305\n",
      "0.07330502873659134 0.09418176192986338\n",
      "0.07357262501120568 0.09390792740803015\n",
      "0.07357787625491619 0.09768180529537954\n",
      "0.07363461497426033 0.08894720771595051\n",
      "0.07391291779279709 0.09145210918627288\n",
      "0.073777100533247 0.10817450873161617\n",
      "0.07369026961922645 0.09475951504550482\n",
      "0.0739683000445366 0.09448546759392086\n",
      "0.07364455011487007 0.08989837353951052\n",
      "0.07357763290405274 0.1002834364771843\n",
      "0.07363369071483612 0.09849479794502258\n",
      "0.07399232184886932 0.09169924729748775\n",
      "0.07399228596687317 0.09497381080138056\n",
      "0.07356855392456055 0.0928842511616255\n",
      "0.07384911933541298 0.10922655894568092\n",
      "0.07341399669647217 0.09634490154291454\n",
      "0.0735844867825508 0.09608230935899835\n",
      "0.07357303488254548 0.09137871234040511\n",
      "0.07351180517673492 0.08666316557087396\n",
      "0.0735266159772873 0.1117903092189839\n",
      "0.07346271258592606 0.10502283863331142\n",
      "0.07347305616736412 0.09666901748431356\n",
      "0.07363756865262985 0.09058318502808872\n",
      "0.0734604851603508 0.10470480667917352\n",
      "0.07343362703919411 0.09693779678721177\n",
      "0.07366154450178146 0.09302657587747824\n",
      "0.07385184973478318 0.12094701159941523\n",
      "0.07400641307234763 0.09447898637307317\n",
      "0.07349880814552306 0.11465815415507868\n",
      "0.07359021359682083 0.1276087815824308\n",
      "0.07331773707270622 0.09864350682810734\n",
      "0.07377326987683773 0.09697150870373375\n",
      "0.07351738792657853 0.10936203736223672\n",
      "0.07336671625077724 0.1132693549520091\n",
      "0.07363675756752491 0.1043164869280238\n",
      "0.07367926496267319 0.09601525962352753\n",
      "0.07376332032680512 0.10201481416037209\n",
      "0.0736898768991232 0.10214829542919208\n",
      "0.0736188899576664 0.11555065018566031\n",
      "0.07407478412985802 0.0898335219213837\n",
      "ok\n"
     ]
    }
   ],
   "source": [
    "if __name__ == '__main__':\n",
    "    learning_rate = 0.001\n",
    "    epoch_num = 100\n",
    "    device = torch.device(\"cuda:0\") if torch.cuda.is_available() else \"cpu\"\n",
    "    \n",
    "    train_loss_list = []\n",
    "    val_loss_list = []\n",
    "    \n",
    "    n_x = 31\n",
    "    d_x = 601\n",
    "    batch = 16\n",
    "    \n",
    "    mask = None\n",
    "    \n",
    "    model = SelfAttention(n_head=8, d_k=128, d_v=64, d_x=601, d_o=80,l=31)\n",
    "    \n",
    "    optimizer = torch.optim.Adam(model.parameters(), lr=learning_rate, betas=(0.9, 0.999), eps=1e-08, weight_decay=0, amsgrad=False)\n",
    "#     optimizer = torch.optim.SGD(model.parameters(), lr=0.01, momentum=0.9)\n",
    "#     optimizer = torch.optim.RMSprop(model.parameters(),lr=learning_rate,alpha=0.99,eps=1e-08, weight_decay=0, momentum=0, centered=False)\n",
    "    loss_fn = torch.nn.MSELoss(reduction='mean')\n",
    "\n",
    "    for i in range(epoch_num):\n",
    "        model.train()\n",
    "        train_loss = 0\n",
    "        for j,(x,y) in enumerate(train_loader):\n",
    "            attn, output = model(x, mask=mask)\n",
    "#             print(output.shape)\n",
    "            loss = loss_fn(output,y)\n",
    "            optimizer.zero_grad()\n",
    "            loss.backward()\n",
    "            optimizer.step()\n",
    "            train_loss += loss.item()\n",
    "        train_loss_list.append(train_loss/(j+1))\n",
    "#         train_loss_list.append(loss.item())\n",
    "\n",
    "        model.eval()\n",
    "        val_loss = 0\n",
    "        for k,(x,y) in enumerate(test_loader):\n",
    "            attn,ouput = model(x)\n",
    "            loss = loss_fn(output,y)\n",
    "            val_loss += loss.item()\n",
    "        val_loss_list.append(val_loss/(k+1))\n",
    "#         val_loss_list.append(loss.item())\n",
    "        \n",
    "        print(train_loss_list[i],val_loss_list[i])\n",
    "    print('ok')"
   ]
  },
  {
   "cell_type": "code",
   "execution_count": 33,
   "metadata": {},
   "outputs": [],
   "source": [
    "class My_loss(nn.Module):\n",
    "    def __init__(self,p):\n",
    "        super().__init__()   #没有需要保存的参数和状态信息\n",
    "        self.p = p\n",
    "        \n",
    "    def forward(self, x, y):  # 定义前向的函数运算即可\n",
    "        return torch.mean(torch.pow((x - y), 2))\n",
    "    \n",
    "    def g(self,x):\n",
    "        return 1 / (1 + torch.exp(-p * (x - torch.mean(x)) / 2 / ))\n",
    "        "
   ]
  }
 ],
 "metadata": {
  "kernelspec": {
   "display_name": "Python 3",
   "language": "python",
   "name": "python3"
  },
  "language_info": {
   "codemirror_mode": {
    "name": "ipython",
    "version": 3
   },
   "file_extension": ".py",
   "mimetype": "text/x-python",
   "name": "python",
   "nbconvert_exporter": "python",
   "pygments_lexer": "ipython3",
   "version": "3.7.0"
  }
 },
 "nbformat": 4,
 "nbformat_minor": 4
}
