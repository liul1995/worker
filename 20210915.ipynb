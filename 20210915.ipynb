{
 "cells": [
  {
   "cell_type": "code",
   "execution_count": 1,
   "metadata": {},
   "outputs": [],
   "source": [
    "import torch\n",
    "import torch.nn as nn"
   ]
  },
  {
   "cell_type": "code",
   "execution_count": null,
   "metadata": {},
   "outputs": [],
   "source": [
    "class My_loss(nn.Module):\n",
    "    def __init__(self,p,x,y):\n",
    "        super().__init__()   #没有需要保存的参数和状态信息\n",
    "        self.p = p\n",
    "        self.x = x\n",
    "        \n",
    "    def forward(self, x, y):  # 定义前向的函数运算即可\n",
    "        ic = \n",
    "        return torch.mean(torch.pow((x - y), 2))\n",
    "    \n",
    "    def g(self,x):\n",
    "        return 1 / (1 + torch.exp(-p * (x - torch.mean(x)) / 2 /  x.std()))\n",
    "    \n",
    "    def pearsonr(x,y,batch_first=True,):\n",
    "        assert x.shape == y.shape\n",
    "\n",
    "        if batch_first:\n",
    "            dim = -1\n",
    "        else:\n",
    "            dim = 0\n",
    "\n",
    "        centered_x = x - x.mean(dim=dim, keepdim=True)\n",
    "        centered_y = y - y.mean(dim=dim, keepdim=True)\n",
    "\n",
    "        covariance = (centered_x * centered_y).sum(dim=dim, keepdim=True)\n",
    "\n",
    "        bessel_corrected_covariance = covariance / (x.shape[dim] - 1)\n",
    "\n",
    "        x_std = x.var(dim=dim, keepdim=True)\n",
    "        y_std = y.var(dim=dim, keepdim=True)\n",
    "\n",
    "        corr = bessel_corrected_covariance / (x_std * y_std)\n",
    "\n",
    "        return corr"
   ]
  },
  {
   "cell_type": "code",
   "execution_count": null,
   "metadata": {},
   "outputs": [],
   "source": [
    "def pearsonr(\n",
    "        x,\n",
    "        y,\n",
    "        batch_first=True,\n",
    "):\n",
    "    assert x.shape == y.shape\n",
    "\n",
    "    if batch_first:\n",
    "        dim = -1\n",
    "    else:\n",
    "        dim = 0\n",
    "\n",
    "    centered_x = x - x.mean(dim=dim, keepdim=True)\n",
    "    centered_y = y - y.mean(dim=dim, keepdim=True)\n",
    "\n",
    "    covariance = (centered_x * centered_y).sum(dim=dim, keepdim=True)\n",
    "\n",
    "    bessel_corrected_covariance = covariance / (x.shape[dim] - 1)\n",
    "\n",
    "    x_std = x.var(dim=dim, keepdim=True)\n",
    "    y_std = y.var(dim=dim, keepdim=True)\n",
    "\n",
    "    corr = bessel_corrected_covariance / (x_std * y_std)\n",
    "\n",
    "    return corr"
   ]
  }
 ],
 "metadata": {
  "kernelspec": {
   "display_name": "Python 3",
   "language": "python",
   "name": "python3"
  },
  "language_info": {
   "codemirror_mode": {
    "name": "ipython",
    "version": 3
   },
   "file_extension": ".py",
   "mimetype": "text/x-python",
   "name": "python",
   "nbconvert_exporter": "python",
   "pygments_lexer": "ipython3",
   "version": "3.7.0"
  }
 },
 "nbformat": 4,
 "nbformat_minor": 4
}
